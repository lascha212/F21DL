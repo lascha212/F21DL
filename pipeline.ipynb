{
 "cells": [
  {
   "cell_type": "code",
   "execution_count": 6,
   "id": "92cb06b7",
   "metadata": {},
   "outputs": [],
   "source": [
    "import sys\n",
    "assert sys.version_info >= (3, 5)\n",
    "import sklearn\n",
    "assert sklearn.__version__ >= \"0.20\"\n",
    "# Common imports\n",
    "import numpy as np\n",
    "import os\n",
    "import tarfile\n",
    "import urllib\n",
    "import pandas as pd\n",
    "import urllib.request\n",
    "# To plot pretty figures\n",
    "%matplotlib inline\n",
    "import matplotlib as mpl\n",
    "import matplotlib.pyplot as plt"
   ]
  },
  {
   "cell_type": "code",
   "execution_count": 7,
   "id": "58e15e26",
   "metadata": {},
   "outputs": [],
   "source": [
    "sdata = pd.read_csv(\"data/StudentsPerformance.csv\")\n"
   ]
  },
  {
   "cell_type": "code",
   "execution_count": 8,
   "id": "d25d985f",
   "metadata": {},
   "outputs": [],
   "source": [
    "sdata[\"average score\"] = (sdata[\"math score\"] + sdata[\"reading score\"] + sdata[\"writing score\"])/3\n"
   ]
  },
  {
   "cell_type": "code",
   "execution_count": 9,
   "id": "fd05fa14",
   "metadata": {},
   "outputs": [
    {
     "data": {
      "text/plain": [
       "0      72.666667\n",
       "1      82.333333\n",
       "2      92.666667\n",
       "3      49.333333\n",
       "4      76.333333\n",
       "         ...    \n",
       "995    94.000000\n",
       "996    57.333333\n",
       "997    65.000000\n",
       "998    74.333333\n",
       "999    83.000000\n",
       "Name: average score, Length: 1000, dtype: float64"
      ]
     },
     "execution_count": 9,
     "metadata": {},
     "output_type": "execute_result"
    }
   ],
   "source": [
    "sdata[\"average score\"]"
   ]
  },
  {
   "cell_type": "code",
   "execution_count": 10,
   "id": "bf921e7a",
   "metadata": {},
   "outputs": [],
   "source": [
    "from sklearn.datasets import fetch_openml "
   ]
  },
  {
   "cell_type": "code",
   "execution_count": 20,
   "id": "630ece29",
   "metadata": {},
   "outputs": [
    {
     "data": {
      "text/plain": [
       "0.9322240042579522"
      ]
     },
     "execution_count": 20,
     "metadata": {},
     "output_type": "execute_result"
    }
   ],
   "source": [
    "from sklearn.linear_model import LinearRegression\n",
    "from sklearn import datasets\n",
    "from sklearn.model_selection import train_test_split\n",
    "from sklearn.decomposition import PCA\n",
    "\n",
    " \n",
    "x_train, x_test, y_train, y_test = train_test_split(sdata[[\"writing score\"]], sdata[\"average score\"], random_state=0)\n",
    " \n",
    "from sklearn.pipeline import Pipeline\n",
    "pipeline = Pipeline([('pca', PCA(n_components = 1)), ('linear', LinearRegression())])\n",
    " \n",
    "pipeline.fit(x_train, y_train)\n",
    " \n",
    "pipeline.score(x_test,y_test)"
   ]
  }
 ],
 "metadata": {
  "kernelspec": {
   "display_name": "Python 3",
   "language": "python",
   "name": "python3"
  },
  "language_info": {
   "codemirror_mode": {
    "name": "ipython",
    "version": 3
   },
   "file_extension": ".py",
   "mimetype": "text/x-python",
   "name": "python",
   "nbconvert_exporter": "python",
   "pygments_lexer": "ipython3",
   "version": "3.8.8"
  }
 },
 "nbformat": 4,
 "nbformat_minor": 5
}
