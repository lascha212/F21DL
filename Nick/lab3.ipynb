{
 "cells": [
  {
   "cell_type": "markdown",
   "metadata": {},
   "source": [
    "# Setup"
   ]
  },
  {
   "cell_type": "code",
   "execution_count": 24,
   "metadata": {},
   "outputs": [],
   "source": [
    "import sys\n",
    "assert sys.version_info >= (3, 5)\n",
    "import sklearn\n",
    "assert sklearn.__version__ >= \"0.20\"\n",
    "import numpy as np\n",
    "import os\n",
    "import cv2\n",
    "import pandas as pd\n",
    "\n",
    "# To make this notebook's output stable across runs\n",
    "np.random.seed(42)\n",
    "\n",
    "%matplotlib inline\n",
    "import matplotlib as mpl\n",
    "import matplotlib.pyplot as plt"
   ]
  },
  {
   "cell_type": "code",
   "execution_count": 25,
   "metadata": {},
   "outputs": [],
   "source": [
    "# From last lab get the correlation coefficient\n",
    "# Load exam data\n",
    "EXAM_PATH = os.path.join(\"data/\")\n",
    "EXAM_URL = \"../Nick/data/StudentsPerformance.csv\"\n",
    "\n",
    "def load_exam_data(exam_path=EXAM_PATH):\n",
    "    csv_path = os.path.join(exam_path, \"StudentsPerformance.csv\")\n",
    "    return pd.read_csv(csv_path)\n",
    "\n",
    "exam_data = load_exam_data()\n"
   ]
  },
  {
   "cell_type": "code",
   "execution_count": 52,
   "metadata": {},
   "outputs": [
    {
     "data": {
      "text/plain": [
       "0      0\n",
       "1      0\n",
       "2      0\n",
       "3      1\n",
       "4      1\n",
       "      ..\n",
       "995    0\n",
       "996    1\n",
       "997    0\n",
       "998    0\n",
       "999    0\n",
       "Name: gender, Length: 1000, dtype: object"
      ]
     },
     "execution_count": 52,
     "metadata": {},
     "output_type": "execute_result"
    }
   ],
   "source": [
    "# Converting t\n",
    "# for item in exam_data[\"gender\"]:\n",
    "# if item == \"female\":\n",
    "    # print(\"true\")\n",
    "exam_data[\"gender\"].mask(exam_data[\"gender\"] == \"female\", 0, inplace=True)\n",
    "# elif item == \"male\":\n",
    "\n",
    "\n",
    "exam_data[\"gender\"].mask(exam_data[\"gender\"] == \"male\", 1, inplace=True)\n",
    "# else:\n",
    "    # print(\"false\")\n",
    "        # print(\"false\")\n",
    "\n",
    "exam_data[\"gender\"]"
   ]
  },
  {
   "cell_type": "code",
   "execution_count": 54,
   "metadata": {},
   "outputs": [
    {
     "data": {
      "text/plain": [
       "0      0.75\n",
       "1      0.75\n",
       "2      0.75\n",
       "3      0.75\n",
       "4      0.75\n",
       "       ... \n",
       "995    0.75\n",
       "996    0.75\n",
       "997    0.75\n",
       "998    0.75\n",
       "999    0.75\n",
       "Name: race/ethnicity, Length: 1000, dtype: float64"
      ]
     },
     "execution_count": 54,
     "metadata": {},
     "output_type": "execute_result"
    }
   ],
   "source": [
    "\n",
    "# for item in exam_data[\"race/ethnicity\"]:\n",
    "\n",
    "exam_data[\"race/ethnicity\"].mask(exam_data[\"race/ethnicity\"] == \"group A\", 0, inplace=True)\n",
    "\n",
    "exam_data[\"race/ethnicity\"].mask(exam_data[\"race/ethnicity\"] == \"group B\", 0.25, inplace=True)\n",
    "\n",
    "exam_data[\"race/ethnicity\"].mask(exam_data[\"race/ethnicity\"] == \"group C\", 0.5, inplace=True)\n",
    "\n",
    "exam_data[\"race/ethnicity\"].mask(exam_data[\"race/ethnicity\"] == \"group D\", 0.75, inplace=True)\n",
    "\n",
    "exam_data[\"race/ethnicity\"].mask(exam_data[\"race/ethnicity\"] == \"group E\", 1, inplace=True)\n",
    "\n",
    "exam_data[\"race/ethnicity\"]\n",
    "\n",
    "    # if item == \"group A\":\n",
    "    #     exam_data[\"race/ethnicity\"] = 0\n",
    "    # elif item == \"group B\":\n",
    "    #     exam_data[\"race/ethnicity\"] = 0.25\n",
    "    # elif item  == \"group C\":\n",
    "    #     exam_data[\"race/ethnicity\"] = 0.5\n",
    "    # elif item == \"group D\":\n",
    "    #     exam_data[\"race/ethnicity\"] = 0.75\n",
    "    # elif item == \"group E\":\n",
    "    #     exam_data[\"race/ethnicity\"] = 1\n",
    "\n",
    "\n",
    "\n",
    "\n",
    "\n",
    "# for item in exam_data[\"parental level of education\"]:\n",
    "#     if item == \"bachelor's degree\":\n",
    "#         exam_data[\"parental level of education\"] = 0\n",
    "#     elif item == \"some degree\":\n",
    "#         exam_data[\"parental level of education\"] = 0.25\n",
    "#     elif item == \"master's degree\":\n",
    "#         exam_data[\"parental level of education\"] = 0.50\n",
    "#     elif item == \"associate's degree\":\n",
    "#         exam_data[\"parental level of education\"] = 0.75\n",
    "#     elif item == \"high school\" or item == \"some high school\":\n",
    "#         exam_data[\"parental level of education\"] = 1\n",
    "\n",
    "# for item in exam_data[\"lunch\"]:\n",
    "#     if item == \"standard\":\n",
    "#         exam_data[\"lunch\"] = 0\n",
    "#     elif item == \"free/reduced\":\n",
    "#         exam_data[\"lunch\"] = 0.25\n",
    "\n",
    "# for item in exam_data[\"test preparation course\"]:\n",
    "\n",
    "#     if item == \"complete\":\n",
    "#         exam_data[\"test preparation course\"] = 0\n",
    "#     else:\n",
    "#         exam_data[\"test preparation course\"] = 0.25\n",
    "\n",
    "\n",
    "# exam_corr = exam_data.corr()\n",
    "\n",
    "# exam_corr\n",
    "\n",
    "# exam_corr = exam_data.corr()\n",
    "\n",
    "# exam_corr[\"math score\"].sort_values(ascending=False)\n",
    "\n",
    "\n"
   ]
  },
  {
   "cell_type": "code",
   "execution_count": 55,
   "metadata": {},
   "outputs": [
    {
     "data": {
      "text/plain": [
       "0      1\n",
       "1      1\n",
       "2      1\n",
       "3      1\n",
       "4      1\n",
       "      ..\n",
       "995    1\n",
       "996    1\n",
       "997    1\n",
       "998    1\n",
       "999    1\n",
       "Name: parental level of education, Length: 1000, dtype: int64"
      ]
     },
     "execution_count": 55,
     "metadata": {},
     "output_type": "execute_result"
    }
   ],
   "source": [
    "exam_data[\"parental level of education\"].mask(exam_data[\"parental level of education\"] == \"bachelor's degree\", 0, inplace=True)\n",
    "\n",
    "exam_data[\"parental level of education\"].mask(exam_data[\"parental level of education\"] == \"some degree\", 0.25, inplace=True)\n",
    "\n",
    "exam_data[\"parental level of education\"].mask(exam_data[\"parental level of education\"] == \"master's degree\", 0.50, inplace=True)\n",
    "\n",
    "exam_data[\"parental level of education\"].mask(exam_data[\"parental level of education\"] == \"associate's degree\", 0.75, inplace=True)\n",
    "\n",
    "exam_data[\"parental level of education\"].mask(exam_data[\"parental level of education\"] == \"high school\", 1, inplace=True)\n",
    "\n",
    "exam_data[\"parental level of education\"].mask(exam_data[\"parental level of education\"] == \"some high school\", 1, inplace=True)\n",
    "\n",
    "exam_data[\"parental level of education\"]"
   ]
  },
  {
   "cell_type": "code",
   "execution_count": null,
   "metadata": {},
   "outputs": [
    {
     "name": "stderr",
     "output_type": "stream",
     "text": [
      "C:\\Users\\nickm\\AppData\\Local\\Temp\\ipykernel_4296\\2359367792.py:3: FutureWarning: The default value of numeric_only in DataFrame.corr is deprecated. In a future version, it will default to False. Select only valid columns or specify the value of numeric_only to silence this warning.\n",
      "  exam_corr = exam_data.corr()\n"
     ]
    },
    {
     "data": {
      "text/html": [
       "<div>\n",
       "<style scoped>\n",
       "    .dataframe tbody tr th:only-of-type {\n",
       "        vertical-align: middle;\n",
       "    }\n",
       "\n",
       "    .dataframe tbody tr th {\n",
       "        vertical-align: top;\n",
       "    }\n",
       "\n",
       "    .dataframe thead th {\n",
       "        text-align: right;\n",
       "    }\n",
       "</style>\n",
       "<table border=\"1\" class=\"dataframe\">\n",
       "  <thead>\n",
       "    <tr style=\"text-align: right;\">\n",
       "      <th></th>\n",
       "      <th>race/ethnicity</th>\n",
       "      <th>parental level of education</th>\n",
       "      <th>lunch</th>\n",
       "      <th>test preparation course</th>\n",
       "      <th>math score</th>\n",
       "      <th>reading score</th>\n",
       "      <th>writing score</th>\n",
       "    </tr>\n",
       "  </thead>\n",
       "  <tbody>\n",
       "    <tr>\n",
       "      <th>race/ethnicity</th>\n",
       "      <td>NaN</td>\n",
       "      <td>NaN</td>\n",
       "      <td>NaN</td>\n",
       "      <td>NaN</td>\n",
       "      <td>NaN</td>\n",
       "      <td>NaN</td>\n",
       "      <td>NaN</td>\n",
       "    </tr>\n",
       "    <tr>\n",
       "      <th>parental level of education</th>\n",
       "      <td>NaN</td>\n",
       "      <td>NaN</td>\n",
       "      <td>NaN</td>\n",
       "      <td>NaN</td>\n",
       "      <td>NaN</td>\n",
       "      <td>NaN</td>\n",
       "      <td>NaN</td>\n",
       "    </tr>\n",
       "    <tr>\n",
       "      <th>lunch</th>\n",
       "      <td>NaN</td>\n",
       "      <td>NaN</td>\n",
       "      <td>NaN</td>\n",
       "      <td>NaN</td>\n",
       "      <td>NaN</td>\n",
       "      <td>NaN</td>\n",
       "      <td>NaN</td>\n",
       "    </tr>\n",
       "    <tr>\n",
       "      <th>test preparation course</th>\n",
       "      <td>NaN</td>\n",
       "      <td>NaN</td>\n",
       "      <td>NaN</td>\n",
       "      <td>NaN</td>\n",
       "      <td>NaN</td>\n",
       "      <td>NaN</td>\n",
       "      <td>NaN</td>\n",
       "    </tr>\n",
       "    <tr>\n",
       "      <th>math score</th>\n",
       "      <td>NaN</td>\n",
       "      <td>NaN</td>\n",
       "      <td>NaN</td>\n",
       "      <td>NaN</td>\n",
       "      <td>1.000000</td>\n",
       "      <td>0.817580</td>\n",
       "      <td>0.802642</td>\n",
       "    </tr>\n",
       "    <tr>\n",
       "      <th>reading score</th>\n",
       "      <td>NaN</td>\n",
       "      <td>NaN</td>\n",
       "      <td>NaN</td>\n",
       "      <td>NaN</td>\n",
       "      <td>0.817580</td>\n",
       "      <td>1.000000</td>\n",
       "      <td>0.954598</td>\n",
       "    </tr>\n",
       "    <tr>\n",
       "      <th>writing score</th>\n",
       "      <td>NaN</td>\n",
       "      <td>NaN</td>\n",
       "      <td>NaN</td>\n",
       "      <td>NaN</td>\n",
       "      <td>0.802642</td>\n",
       "      <td>0.954598</td>\n",
       "      <td>1.000000</td>\n",
       "    </tr>\n",
       "  </tbody>\n",
       "</table>\n",
       "</div>"
      ],
      "text/plain": [
       "                             race/ethnicity  parental level of education  \\\n",
       "race/ethnicity                          NaN                          NaN   \n",
       "parental level of education             NaN                          NaN   \n",
       "lunch                                   NaN                          NaN   \n",
       "test preparation course                 NaN                          NaN   \n",
       "math score                              NaN                          NaN   \n",
       "reading score                           NaN                          NaN   \n",
       "writing score                           NaN                          NaN   \n",
       "\n",
       "                             lunch  test preparation course  math score  \\\n",
       "race/ethnicity                 NaN                      NaN         NaN   \n",
       "parental level of education    NaN                      NaN         NaN   \n",
       "lunch                          NaN                      NaN         NaN   \n",
       "test preparation course        NaN                      NaN         NaN   \n",
       "math score                     NaN                      NaN    1.000000   \n",
       "reading score                  NaN                      NaN    0.817580   \n",
       "writing score                  NaN                      NaN    0.802642   \n",
       "\n",
       "                             reading score  writing score  \n",
       "race/ethnicity                         NaN            NaN  \n",
       "parental level of education            NaN            NaN  \n",
       "lunch                                  NaN            NaN  \n",
       "test preparation course                NaN            NaN  \n",
       "math score                        0.817580       0.802642  \n",
       "reading score                     1.000000       0.954598  \n",
       "writing score                     0.954598       1.000000  "
      ]
     },
     "execution_count": 28,
     "metadata": {},
     "output_type": "execute_result"
    }
   ],
   "source": [
    "# Computiing correlatioon coefficients\n",
    "# print(exam_data)\n",
    "exam_corr = exam_data.corr()\n",
    "\n",
    "exam_corr"
   ]
  },
  {
   "cell_type": "code",
   "execution_count": null,
   "metadata": {},
   "outputs": [
    {
     "name": "stdout",
     "output_type": "stream",
     "text": [
      "                             race/ethnicity  parental level of education  \\\n",
      "race/ethnicity                          NaN                          NaN   \n",
      "parental level of education             NaN                          NaN   \n",
      "lunch                                   NaN                          NaN   \n",
      "test preparation course                 NaN                          NaN   \n",
      "math score                              NaN                          NaN   \n",
      "reading score                           NaN                          NaN   \n",
      "writing score                           NaN                          NaN   \n",
      "\n",
      "                             lunch  test preparation course  math score  \\\n",
      "race/ethnicity                 NaN                      NaN         NaN   \n",
      "parental level of education    NaN                      NaN         NaN   \n",
      "lunch                          NaN                      NaN         NaN   \n",
      "test preparation course        NaN                      NaN         NaN   \n",
      "math score                     NaN                      NaN    1.000000   \n",
      "reading score                  NaN                      NaN    0.817580   \n",
      "writing score                  NaN                      NaN    0.802642   \n",
      "\n",
      "                             reading score  writing score  \n",
      "race/ethnicity                         NaN            NaN  \n",
      "parental level of education            NaN            NaN  \n",
      "lunch                                  NaN            NaN  \n",
      "test preparation course                NaN            NaN  \n",
      "math score                        0.817580       0.802642  \n",
      "reading score                     1.000000       0.954598  \n",
      "writing score                     0.954598       1.000000  \n"
     ]
    }
   ],
   "source": [
    "# Maths score correlation coefficient (Pearson's R)\n",
    "# features against maths scores \n",
    "exam_corr[\"math score\"].sort_values(ascending=False)\n",
    "print(exam_corr)\n"
   ]
  },
  {
   "cell_type": "code",
   "execution_count": null,
   "metadata": {},
   "outputs": [
    {
     "data": {
      "text/plain": [
       "reading score                  1.000000\n",
       "writing score                  0.954598\n",
       "math score                     0.817580\n",
       "race/ethnicity                      NaN\n",
       "parental level of education         NaN\n",
       "lunch                               NaN\n",
       "test preparation course             NaN\n",
       "Name: reading score, dtype: float64"
      ]
     },
     "execution_count": 30,
     "metadata": {},
     "output_type": "execute_result"
    }
   ],
   "source": [
    "# scores against reading score\n",
    "exam_corr[\"reading score\"].sort_values(ascending=False)"
   ]
  },
  {
   "cell_type": "code",
   "execution_count": null,
   "metadata": {},
   "outputs": [
    {
     "data": {
      "text/plain": [
       "writing score                  1.000000\n",
       "reading score                  0.954598\n",
       "math score                     0.802642\n",
       "race/ethnicity                      NaN\n",
       "parental level of education         NaN\n",
       "lunch                               NaN\n",
       "test preparation course             NaN\n",
       "Name: writing score, dtype: float64"
      ]
     },
     "execution_count": 31,
     "metadata": {},
     "output_type": "execute_result"
    }
   ],
   "source": [
    "# scores against writing score\n",
    "exam_corr[\"writing score\"].sort_values(ascending=False)"
   ]
  },
  {
   "cell_type": "code",
   "execution_count": null,
   "metadata": {},
   "outputs": [
    {
     "data": {
      "text/plain": [
       "dict_keys(['data', 'target', 'frame', 'categories', 'feature_names', 'target_names', 'DESCR', 'details', 'url'])"
      ]
     },
     "execution_count": 32,
     "metadata": {},
     "output_type": "execute_result"
    }
   ],
   "source": [
    "from sklearn.linear_model import linearRegression\n",
    "l_reg = linearRegression()\n"
   ]
  },
  {
   "cell_type": "code",
   "execution_count": null,
   "metadata": {},
   "outputs": [
    {
     "data": {
      "text/plain": [
       "(70000, 784)"
      ]
     },
     "execution_count": 33,
     "metadata": {},
     "output_type": "execute_result"
    }
   ],
   "source": [
    "X = mnist[\"data\"]\n",
    "y = mnist[\"target\"]\n",
    "X.shape"
   ]
  },
  {
   "cell_type": "code",
   "execution_count": null,
   "metadata": {},
   "outputs": [
    {
     "data": {
      "text/plain": [
       "(70000,)"
      ]
     },
     "execution_count": 34,
     "metadata": {},
     "output_type": "execute_result"
    }
   ],
   "source": [
    "y.shape"
   ]
  },
  {
   "cell_type": "code",
   "execution_count": null,
   "metadata": {},
   "outputs": [
    {
     "name": "stdout",
     "output_type": "stream",
     "text": [
      "   pixel1  pixel2  pixel3  pixel4  pixel5  pixel6  pixel7  pixel8  pixel9  \\\n",
      "0     0.0     0.0     0.0     0.0     0.0     0.0     0.0     0.0     0.0   \n",
      "1     0.0     0.0     0.0     0.0     0.0     0.0     0.0     0.0     0.0   \n",
      "2     0.0     0.0     0.0     0.0     0.0     0.0     0.0     0.0     0.0   \n",
      "3     0.0     0.0     0.0     0.0     0.0     0.0     0.0     0.0     0.0   \n",
      "4     0.0     0.0     0.0     0.0     0.0     0.0     0.0     0.0     0.0   \n",
      "\n",
      "   pixel10  ...  pixel775  pixel776  pixel777  pixel778  pixel779  pixel780  \\\n",
      "0      0.0  ...       0.0       0.0       0.0       0.0       0.0       0.0   \n",
      "1      0.0  ...       0.0       0.0       0.0       0.0       0.0       0.0   \n",
      "2      0.0  ...       0.0       0.0       0.0       0.0       0.0       0.0   \n",
      "3      0.0  ...       0.0       0.0       0.0       0.0       0.0       0.0   \n",
      "4      0.0  ...       0.0       0.0       0.0       0.0       0.0       0.0   \n",
      "\n",
      "   pixel781  pixel782  pixel783  pixel784  \n",
      "0       0.0       0.0       0.0       0.0  \n",
      "1       0.0       0.0       0.0       0.0  \n",
      "2       0.0       0.0       0.0       0.0  \n",
      "3       0.0       0.0       0.0       0.0  \n",
      "4       0.0       0.0       0.0       0.0  \n",
      "\n",
      "[5 rows x 784 columns]\n"
     ]
    }
   ],
   "source": [
    "X = mnist[\"data\"]\n",
    "# First 5 rows of data\n",
    "print(mnist[\"data\"][:5])"
   ]
  },
  {
   "cell_type": "code",
   "execution_count": null,
   "metadata": {},
   "outputs": [
    {
     "ename": "KeyError",
     "evalue": "0",
     "output_type": "error",
     "traceback": [
      "\u001b[1;31m---------------------------------------------------------------------------\u001b[0m",
      "\u001b[1;31mKeyError\u001b[0m                                  Traceback (most recent call last)",
      "File \u001b[1;32mc:\\Users\\nickm\\AppData\\Local\\Programs\\Python\\Python310\\lib\\site-packages\\pandas\\core\\indexes\\base.py:3800\u001b[0m, in \u001b[0;36mIndex.get_loc\u001b[1;34m(self, key, method, tolerance)\u001b[0m\n\u001b[0;32m   3799\u001b[0m \u001b[39mtry\u001b[39;00m:\n\u001b[1;32m-> 3800\u001b[0m     \u001b[39mreturn\u001b[39;00m \u001b[39mself\u001b[39;49m\u001b[39m.\u001b[39;49m_engine\u001b[39m.\u001b[39;49mget_loc(casted_key)\n\u001b[0;32m   3801\u001b[0m \u001b[39mexcept\u001b[39;00m \u001b[39mKeyError\u001b[39;00m \u001b[39mas\u001b[39;00m err:\n",
      "File \u001b[1;32mc:\\Users\\nickm\\AppData\\Local\\Programs\\Python\\Python310\\lib\\site-packages\\pandas\\_libs\\index.pyx:138\u001b[0m, in \u001b[0;36mpandas._libs.index.IndexEngine.get_loc\u001b[1;34m()\u001b[0m\n",
      "File \u001b[1;32mc:\\Users\\nickm\\AppData\\Local\\Programs\\Python\\Python310\\lib\\site-packages\\pandas\\_libs\\index.pyx:165\u001b[0m, in \u001b[0;36mpandas._libs.index.IndexEngine.get_loc\u001b[1;34m()\u001b[0m\n",
      "File \u001b[1;32mpandas\\_libs\\hashtable_class_helper.pxi:5745\u001b[0m, in \u001b[0;36mpandas._libs.hashtable.PyObjectHashTable.get_item\u001b[1;34m()\u001b[0m\n",
      "File \u001b[1;32mpandas\\_libs\\hashtable_class_helper.pxi:5753\u001b[0m, in \u001b[0;36mpandas._libs.hashtable.PyObjectHashTable.get_item\u001b[1;34m()\u001b[0m\n",
      "\u001b[1;31mKeyError\u001b[0m: 0",
      "\nThe above exception was the direct cause of the following exception:\n",
      "\u001b[1;31mKeyError\u001b[0m                                  Traceback (most recent call last)",
      "Cell \u001b[1;32mIn [36], line 1\u001b[0m\n\u001b[1;32m----> 1\u001b[0m some_digit \u001b[38;5;241m=\u001b[39m \u001b[43mX\u001b[49m\u001b[43m[\u001b[49m\u001b[38;5;241;43m0\u001b[39;49m\u001b[43m]\u001b[49m\n\u001b[0;32m      2\u001b[0m some_digit_image \u001b[38;5;241m=\u001b[39m some_digit\u001b[38;5;241m.\u001b[39mreshaoe(\u001b[38;5;241m28\u001b[39m,\u001b[38;5;241m28\u001b[39m)\n\u001b[0;32m      3\u001b[0m plt\u001b[38;5;241m.\u001b[39mimshow(some_digit, cmap\u001b[38;5;241m=\u001b[39mmpl\u001b[38;5;241m.\u001b[39mcm\u001b[38;5;241m.\u001b[39mbinary)\n",
      "File \u001b[1;32mc:\\Users\\nickm\\AppData\\Local\\Programs\\Python\\Python310\\lib\\site-packages\\pandas\\core\\frame.py:3805\u001b[0m, in \u001b[0;36mDataFrame.__getitem__\u001b[1;34m(self, key)\u001b[0m\n\u001b[0;32m   3803\u001b[0m \u001b[39mif\u001b[39;00m \u001b[39mself\u001b[39m\u001b[39m.\u001b[39mcolumns\u001b[39m.\u001b[39mnlevels \u001b[39m>\u001b[39m \u001b[39m1\u001b[39m:\n\u001b[0;32m   3804\u001b[0m     \u001b[39mreturn\u001b[39;00m \u001b[39mself\u001b[39m\u001b[39m.\u001b[39m_getitem_multilevel(key)\n\u001b[1;32m-> 3805\u001b[0m indexer \u001b[39m=\u001b[39m \u001b[39mself\u001b[39;49m\u001b[39m.\u001b[39;49mcolumns\u001b[39m.\u001b[39;49mget_loc(key)\n\u001b[0;32m   3806\u001b[0m \u001b[39mif\u001b[39;00m is_integer(indexer):\n\u001b[0;32m   3807\u001b[0m     indexer \u001b[39m=\u001b[39m [indexer]\n",
      "File \u001b[1;32mc:\\Users\\nickm\\AppData\\Local\\Programs\\Python\\Python310\\lib\\site-packages\\pandas\\core\\indexes\\base.py:3802\u001b[0m, in \u001b[0;36mIndex.get_loc\u001b[1;34m(self, key, method, tolerance)\u001b[0m\n\u001b[0;32m   3800\u001b[0m     \u001b[39mreturn\u001b[39;00m \u001b[39mself\u001b[39m\u001b[39m.\u001b[39m_engine\u001b[39m.\u001b[39mget_loc(casted_key)\n\u001b[0;32m   3801\u001b[0m \u001b[39mexcept\u001b[39;00m \u001b[39mKeyError\u001b[39;00m \u001b[39mas\u001b[39;00m err:\n\u001b[1;32m-> 3802\u001b[0m     \u001b[39mraise\u001b[39;00m \u001b[39mKeyError\u001b[39;00m(key) \u001b[39mfrom\u001b[39;00m \u001b[39merr\u001b[39;00m\n\u001b[0;32m   3803\u001b[0m \u001b[39mexcept\u001b[39;00m \u001b[39mTypeError\u001b[39;00m:\n\u001b[0;32m   3804\u001b[0m     \u001b[39m# If we have a listlike key, _check_indexing_error will raise\u001b[39;00m\n\u001b[0;32m   3805\u001b[0m     \u001b[39m#  InvalidIndexError. Otherwise we fall through and re-raise\u001b[39;00m\n\u001b[0;32m   3806\u001b[0m     \u001b[39m#  the TypeError.\u001b[39;00m\n\u001b[0;32m   3807\u001b[0m     \u001b[39mself\u001b[39m\u001b[39m.\u001b[39m_check_indexing_error(key)\n",
      "\u001b[1;31mKeyError\u001b[0m: 0"
     ]
    }
   ],
   "source": [
    "some_digit = X[0]\n",
    "some_digit_image = some_digit.reshaoe(28,28)\n",
    "plt.imshow(some_digit, cmap=mpl.cm.binary)\n",
    "plt.show()\n",
    "\n",
    "\n"
   ]
  },
  {
   "cell_type": "code",
   "execution_count": null,
   "metadata": {},
   "outputs": [],
   "source": [
    "y[0]"
   ]
  },
  {
   "cell_type": "code",
   "execution_count": null,
   "metadata": {},
   "outputs": [],
   "source": [
    "y = y.astype(np.uint8)"
   ]
  },
  {
   "cell_type": "code",
   "execution_count": null,
   "metadata": {},
   "outputs": [],
   "source": [
    "y[0]"
   ]
  },
  {
   "cell_type": "code",
   "execution_count": null,
   "metadata": {},
   "outputs": [],
   "source": [
    "def plot_digit(data):\n",
    "    image = data.reshape(28, 28)\n",
    "    plt.show(image, cmap = mpl.cm.binary, interpolation=\"nearest\")\n",
    "    plt.axis(\"off\")"
   ]
  },
  {
   "cell_type": "code",
   "execution_count": null,
   "metadata": {},
   "outputs": [],
   "source": [
    "def plot_digits(instances, images_per_row=10, **options):\n",
    "    size= 28\n",
    "    images_per_row = min(len(instances), images_per_row)\n",
    "    images = [instance.reshape(size, size) for instance in instances]\n",
    "    n_rows = (len(instances) - 1) // images_per_row + 1\n",
    "    row_images = []\n",
    "    n_empty = n_rows * images_per_row - len(instances)\n",
    "    images.append(np.zeros((size, size * n_empty)))\n",
    "\n",
    "    for row in range(n_rows):\n",
    "        rimages = images[row * images_per_row : (row + 1) * images_per_row]\n",
    "        row_images.append(np.concatenate(rimages, axis=1))\n",
    "\n",
    "    image = np.concatenate(row_images, axis=0)\n",
    "    plt.imshow(image, cmap = mpl.cm.binary, **options)\n",
    "    plt.axis(\"off\")\n"
   ]
  },
  {
   "cell_type": "code",
   "execution_count": null,
   "metadata": {},
   "outputs": [],
   "source": [
    "plt.figure(figsize=(9,9))\n",
    "example_images = X[:100]\n",
    "plot_digits(example_images, images_per_row=10)\n",
    "plt.show()"
   ]
  }
 ],
 "metadata": {
  "kernelspec": {
   "display_name": "Python 3.10.7 64-bit",
   "language": "python",
   "name": "python3"
  },
  "language_info": {
   "codemirror_mode": {
    "name": "ipython",
    "version": 3
   },
   "file_extension": ".py",
   "mimetype": "text/x-python",
   "name": "python",
   "nbconvert_exporter": "python",
   "pygments_lexer": "ipython3",
   "version": "3.10.7"
  },
  "orig_nbformat": 4,
  "vscode": {
   "interpreter": {
    "hash": "f7949dcef4b32638aa73a13052b7f329c14007a9a3ccead44f0d53f687a0ac58"
   }
  }
 },
 "nbformat": 4,
 "nbformat_minor": 2
}
