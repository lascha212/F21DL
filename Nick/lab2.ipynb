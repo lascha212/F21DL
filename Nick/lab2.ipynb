{
 "cells": [
  {
   "cell_type": "code",
   "execution_count": null,
   "metadata": {},
   "outputs": [],
   "source": [
    "# Python 3.5 or greater\n",
    "import sys\n",
    "assert sys.version_info >= (3, 5)\n",
    "# scikit learn\n",
    "import sklearn\n",
    "assert sklearn.__version__>= \"0.20\"\n",
    "\n",
    "# Common imports\n",
    "import numpy as np\n",
    "import os\n",
    "import tarfile\n",
    "import urllib\n",
    "import pandas as pd\n",
    "import urllib.request\n",
    "\n",
    "import shutil\n",
    "\n",
    "%matplotlib inline\n",
    "import matplotlib as mpl\n",
    "import matplotlib.pyplot as plt"
   ]
  },
  {
   "cell_type": "code",
   "execution_count": null,
   "metadata": {},
   "outputs": [],
   "source": [
    "DOWNLOAD_ROOT = \"https://www.kaggle.com/datasets/zynicide/wine-reviews\"\n",
    "WINE_PATH = os.path.join(\"../data/\")\n",
    "WINE_URL = DOWNLOAD_ROOT + \"datasets/wine-reviews/wine-reviews.zip\"\n",
    "\n",
    "# Doesn't work\n",
    "def fetch_wine_data(wine_url=WINE_URL, wine_path=WINE_PATH):\n",
    "    os.makedirs(wine_path, exist_ok=True)\n",
    "    zip_path = os.path.join(wine_path, \"wine-reviews.zip\")\n",
    "    urllib.request.urlretrieve(wine_url, zip_path)\n",
    "    wine_zip = tarfile.open(zip_path)\n",
    "    wine_zip.extractall(path=wine_path)\n",
    "    wine_zip.clse()\n"
   ]
  },
  {
   "cell_type": "code",
   "execution_count": null,
   "metadata": {},
   "outputs": [],
   "source": [
    "# fetch_wine_data()"
   ]
  },
  {
   "cell_type": "code",
   "execution_count": null,
   "metadata": {},
   "outputs": [],
   "source": [
    "def load_wine_data(wine_path=WINE_PATH):\n",
    "    csv_path = os.path.join(wine_path, \"winemag-data_first150k.csv\")\n",
    "    return pd.read_csv(csv_path)"
   ]
  },
  {
   "cell_type": "code",
   "execution_count": null,
   "metadata": {},
   "outputs": [],
   "source": [
    "wine = load_wine_data()\n",
    "wine.head() # gives the first 5 lines of the dataFrame"
   ]
  },
  {
   "cell_type": "code",
   "execution_count": null,
   "metadata": {},
   "outputs": [],
   "source": [
    "wine.info()"
   ]
  },
  {
   "cell_type": "markdown",
   "metadata": {},
   "source": [
    "The `unnamed` column is the number of entries that have been made. Therefor any column that does not have 150,930 entries has at least 1 null entry."
   ]
  },
  {
   "cell_type": "code",
   "execution_count": null,
   "metadata": {},
   "outputs": [],
   "source": [
    "wine.hist(bins=40, figsize=(25, 15))\n",
    "plt.show()"
   ]
  },
  {
   "cell_type": "code",
   "execution_count": null,
   "metadata": {},
   "outputs": [],
   "source": [
    "wine.plot(kind = \"scatter\", x = \"points\", y = \"price\")\n",
    "plt.show()"
   ]
  },
  {
   "cell_type": "code",
   "execution_count": null,
   "metadata": {},
   "outputs": [],
   "source": [
    "# Create copy of winemag-data_first150k\n",
    "def create_copy_file(wine_path=WINE_PATH):\n",
    "    # Create a copies directory\n",
    "    os.makedirs(wine_path + \"/copies\")\n",
    "    csv_path = os.path.join(wine_path, \"winemag-data_first150k.csv\")\n",
    "    df = pd.read_csv(csv_path)\n",
    "    df.to_csv(wine_path + \"/copies/winemag-data_first150k-copy.csv\")\n",
    "\n"
   ]
  },
  {
   "cell_type": "code",
   "execution_count": null,
   "metadata": {},
   "outputs": [],
   "source": [
    "# create_copy_file()"
   ]
  },
  {
   "cell_type": "code",
   "execution_count": null,
   "metadata": {},
   "outputs": [],
   "source": [
    "# Our points range from 80 - 100\n",
    "# So we can split this up into Equal Width Binning (EWB(4))\n",
    "# Low, Medium, High, Very High\n",
    "\n",
    "# This might not be correct, it seems to be giving the same records for medium, high and very high at the end record 150k+\n",
    "\n",
    "def discretize_points(point_rating, wine_path=WINE_PATH):\n",
    "    csv_path = os.path.join(WINE_PATH, \"copies\", \"winemag-data_first150k-copy.csv\")\n",
    "    df = pd.read_csv(csv_path)\n",
    "\n",
    "    if point_rating == \"low\":\n",
    "        df[\"points\"].mask(df[\"points\"] <= 85, \"low\", inplace=True)\n",
    "    elif point_rating == \"medium\":\n",
    "        df[\"points\"].mask(df[\"points\"] <= 90, \"medium\", inplace=True)\n",
    "    elif point_rating == \"high\":\n",
    "        df[\"points\"].mask(df[\"points\"] <= 95, \"high\", inplace=True)\n",
    "    elif point_rating == \"very high\":\n",
    "        df[\"points\"].mask(df[\"points\"] <= 100, \"very high\", inplace=True)\n",
    "    else:\n",
    "        print(\"NOT VALID\")\n",
    "\n",
    "    # df.loc[(df.points <= 85), 'points']=\"low\"\n",
    "    # df.loc[(df.points <= 90), 'points']=\"medium\"\n",
    "\n",
    "    # Can also write to the copied csv file if we wish to save this change\n",
    "    return df\n",
    "\n",
    "\n",
    "wine_copy = discretize_points(\"low\")\n",
    "\n",
    "# wine_copy.loc[(wine_copy.points <= 85), 'points']=\"low\" # This replaces all of the points values with less than 86 to a string of 'low'\n",
    "\n",
    "wine_copy.query(\"points == 'low'\")\n"
   ]
  },
  {
   "cell_type": "code",
   "execution_count": null,
   "metadata": {},
   "outputs": [],
   "source": [
    "wine_copy = discretize_points(\"medium\")\n",
    "wine_copy.query(\"points == 'medium'\")"
   ]
  },
  {
   "cell_type": "code",
   "execution_count": null,
   "metadata": {},
   "outputs": [],
   "source": [
    "wine_copy = discretize_points(\"high\")\n",
    "\n",
    "\n",
    "wine_copy.query(\"points == 'high'\")"
   ]
  },
  {
   "cell_type": "code",
   "execution_count": null,
   "metadata": {},
   "outputs": [],
   "source": [
    "wine_copy = discretize_points(\"very high\")\n",
    "\n",
    "wine_copy.query(\"points == 'very high'\")"
   ]
  }
 ],
 "metadata": {
  "kernelspec": {
   "display_name": "Python 3.10.7 64-bit",
   "language": "python",
   "name": "python3"
  },
  "language_info": {
   "codemirror_mode": {
    "name": "ipython",
    "version": 3
   },
   "file_extension": ".py",
   "mimetype": "text/x-python",
   "name": "python",
   "nbconvert_exporter": "python",
   "pygments_lexer": "ipython3",
   "version": "3.10.7"
  },
  "orig_nbformat": 4,
  "vscode": {
   "interpreter": {
    "hash": "f7949dcef4b32638aa73a13052b7f329c14007a9a3ccead44f0d53f687a0ac58"
   }
  }
 },
 "nbformat": 4,
 "nbformat_minor": 2
}
