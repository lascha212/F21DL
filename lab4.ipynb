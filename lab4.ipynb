{
 "cells": [
  {
   "cell_type": "code",
   "execution_count": 1,
   "id": "92cb06b7",
   "metadata": {},
   "outputs": [],
   "source": [
    "import sys\n",
    "assert sys.version_info >= (3, 5)\n",
    "import sklearn\n",
    "assert sklearn.__version__ >= \"0.20\"\n",
    "# Common imports\n",
    "import numpy as np\n",
    "import os\n",
    "import tarfile\n",
    "import urllib\n",
    "import pandas as pd\n",
    "import urllib.request\n",
    "from sklearn.linear_model import LinearRegression\n",
    "# To plot pretty figures\n",
    "%matplotlib inline\n",
    "import matplotlib as mpl\n",
    "import matplotlib.pyplot as plt"
   ]
  },
  {
   "cell_type": "code",
   "execution_count": 2,
   "id": "58e15e26",
   "metadata": {},
   "outputs": [],
   "source": [
    "sdata = pd.read_csv(\"data/StudentsPerformance.csv\")\n"
   ]
  },
  {
   "cell_type": "code",
   "execution_count": 3,
   "id": "d25d985f",
   "metadata": {},
   "outputs": [],
   "source": [
    "sdata[\"average score\"] = (sdata[\"math score\"] + sdata[\"reading score\"] + sdata[\"writing score\"])/3\n"
   ]
  },
  {
   "cell_type": "code",
   "execution_count": 4,
   "id": "fd05fa14",
   "metadata": {},
   "outputs": [
    {
     "data": {
      "text/plain": [
       "0      72.666667\n",
       "1      82.333333\n",
       "2      92.666667\n",
       "3      49.333333\n",
       "4      76.333333\n",
       "         ...    \n",
       "995    94.000000\n",
       "996    57.333333\n",
       "997    65.000000\n",
       "998    74.333333\n",
       "999    83.000000\n",
       "Name: average score, Length: 1000, dtype: float64"
      ]
     },
     "execution_count": 4,
     "metadata": {},
     "output_type": "execute_result"
    }
   ],
   "source": [
    "sdata[\"average score\"]"
   ]
  },
  {
   "cell_type": "code",
   "execution_count": 5,
   "id": "35d70993",
   "metadata": {},
   "outputs": [
    {
     "data": {
      "text/html": [
       "<div>\n",
       "<style scoped>\n",
       "    .dataframe tbody tr th:only-of-type {\n",
       "        vertical-align: middle;\n",
       "    }\n",
       "\n",
       "    .dataframe tbody tr th {\n",
       "        vertical-align: top;\n",
       "    }\n",
       "\n",
       "    .dataframe thead th {\n",
       "        text-align: right;\n",
       "    }\n",
       "</style>\n",
       "<table border=\"1\" class=\"dataframe\">\n",
       "  <thead>\n",
       "    <tr style=\"text-align: right;\">\n",
       "      <th></th>\n",
       "      <th>gender</th>\n",
       "      <th>race/ethnicity</th>\n",
       "      <th>parental level of education</th>\n",
       "      <th>lunch</th>\n",
       "      <th>test preparation course</th>\n",
       "      <th>math score</th>\n",
       "      <th>reading score</th>\n",
       "      <th>writing score</th>\n",
       "      <th>average score</th>\n",
       "    </tr>\n",
       "  </thead>\n",
       "  <tbody>\n",
       "    <tr>\n",
       "      <th>0</th>\n",
       "      <td>female</td>\n",
       "      <td>group B</td>\n",
       "      <td>bachelor's degree</td>\n",
       "      <td>standard</td>\n",
       "      <td>none</td>\n",
       "      <td>72</td>\n",
       "      <td>72</td>\n",
       "      <td>74</td>\n",
       "      <td>72.666667</td>\n",
       "    </tr>\n",
       "  </tbody>\n",
       "</table>\n",
       "</div>"
      ],
      "text/plain": [
       "   gender race/ethnicity parental level of education     lunch  \\\n",
       "0  female        group B           bachelor's degree  standard   \n",
       "\n",
       "  test preparation course  math score  reading score  writing score  \\\n",
       "0                    none          72             72             74   \n",
       "\n",
       "   average score  \n",
       "0      72.666667  "
      ]
     },
     "execution_count": 5,
     "metadata": {},
     "output_type": "execute_result"
    }
   ],
   "source": [
    "\n",
    "sdata.loc[[0]]"
   ]
  },
  {
   "cell_type": "code",
   "execution_count": 6,
   "id": "d3a50d6b",
   "metadata": {},
   "outputs": [],
   "source": [
    "from sklearn.preprocessing import OneHotEncoder\n",
    "\n",
    "en = OneHotEncoder(handle_unknown=\"ignore\")\n",
    "en_temp = pd.DataFrame(en.fit_transform(sdata[[\"gender\"]]).toarray())\n",
    "en_temp.columns = en.get_feature_names_out([\"gender\"])\n",
    "sdata.drop([\"gender\"],axis=1,inplace=True)\n",
    "sdata = sdata.join(en_temp)\n",
    "\n",
    "\n",
    "en_temp = pd.DataFrame(en.fit_transform(sdata[[\"race/ethnicity\"]]).toarray())\n",
    "en_temp.columns = en.get_feature_names_out([\"race/ethnicity\"])\n",
    "sdata.drop([\"race/ethnicity\"],axis=1,inplace=True)\n",
    "sdata = sdata.join(en_temp)\n",
    "\n",
    "\n",
    "\n",
    "en_temp = pd.DataFrame(en.fit_transform(sdata[[\"test preparation course\"]]).toarray())\n",
    "en_temp.columns = en.get_feature_names_out([\"test preparation course\"])\n",
    "sdata.drop([\"test preparation course\"],axis=1,inplace=True)\n",
    "sdata = sdata.join(en_temp)\n",
    "\n",
    "en_temp = pd.DataFrame(en.fit_transform(sdata[[\"lunch\"]]).toarray())\n",
    "en_temp.columns = en.get_feature_names_out([\"lunch\"])\n",
    "sdata.drop([\"lunch\"],axis=1,inplace=True)\n",
    "sdata = sdata.join(en_temp)\n",
    "\n",
    "\n",
    "\n",
    "\n",
    "\n"
   ]
  },
  {
   "cell_type": "code",
   "execution_count": 7,
   "id": "576a17b9",
   "metadata": {},
   "outputs": [],
   "source": [
    "sdata[\"parental level of education\"] = sdata[\"parental level of education\"].replace('some high school',1)\n",
    "sdata[\"parental level of education\"] = sdata[\"parental level of education\"].replace('high school',2)\n",
    "sdata[\"parental level of education\"] = sdata[\"parental level of education\"].replace('some college',3)\n",
    "sdata[\"parental level of education\"] = sdata[\"parental level of education\"].replace(\"associate's degree\", 4)\n",
    "sdata[\"parental level of education\"] = sdata[\"parental level of education\"].replace(\"bachelor's degree\" ,5)\n",
    "sdata[\"parental level of education\"] = sdata[\"parental level of education\"].replace(\"master's degree\",6)\n",
    "\n",
    "\n",
    "\n",
    "\n",
    "\n",
    "\n"
   ]
  },
  {
   "cell_type": "code",
   "execution_count": 8,
   "id": "e3804ae2",
   "metadata": {
    "scrolled": true
   },
   "outputs": [
    {
     "data": {
      "text/plain": [
       "parental level of education            int64\n",
       "math score                             int64\n",
       "reading score                          int64\n",
       "writing score                          int64\n",
       "average score                        float64\n",
       "gender_female                        float64\n",
       "gender_male                          float64\n",
       "race/ethnicity_group A               float64\n",
       "race/ethnicity_group B               float64\n",
       "race/ethnicity_group C               float64\n",
       "race/ethnicity_group D               float64\n",
       "race/ethnicity_group E               float64\n",
       "test preparation course_completed    float64\n",
       "test preparation course_none         float64\n",
       "lunch_free/reduced                   float64\n",
       "lunch_standard                       float64\n",
       "dtype: object"
      ]
     },
     "execution_count": 8,
     "metadata": {},
     "output_type": "execute_result"
    }
   ],
   "source": [
    "sdata.loc[[0]]\n",
    "sdata.dtypes\n"
   ]
  },
  {
   "cell_type": "code",
   "execution_count": 28,
   "id": "95bb45d1",
   "metadata": {},
   "outputs": [],
   "source": [
    "sdata[\"binnedaverage\"] = pd.qcut(sdata[\"average score\"],4,retbins=False,labels=[1,2,3,4])\n",
    "# sdata[\"test preparation course\"] = pd.qcut(sdata[\"test preparation course\"],2,retbins=False,labels=[0,1])\n",
    "\n",
    "#sdata[\"test preparation course_completed\"].astype(\"category\")\n",
    "#sdata[\"test preparation course_none\"].astype(\"category\")\n",
    "sdata[\"binned education\"] = pd.cut(sdata[\"parental level of education\"],4,retbins=False,labels=[1,2,3,4])\n",
    "\n",
    "\n",
    "\n",
    "\n",
    "\n",
    "\n",
    "\n"
   ]
  },
  {
   "cell_type": "code",
   "execution_count": 29,
   "id": "8758d3a9",
   "metadata": {},
   "outputs": [
    {
     "data": {
      "text/html": [
       "<div>\n",
       "<style scoped>\n",
       "    .dataframe tbody tr th:only-of-type {\n",
       "        vertical-align: middle;\n",
       "    }\n",
       "\n",
       "    .dataframe tbody tr th {\n",
       "        vertical-align: top;\n",
       "    }\n",
       "\n",
       "    .dataframe thead th {\n",
       "        text-align: right;\n",
       "    }\n",
       "</style>\n",
       "<table border=\"1\" class=\"dataframe\">\n",
       "  <thead>\n",
       "    <tr style=\"text-align: right;\">\n",
       "      <th></th>\n",
       "      <th>parental level of education</th>\n",
       "      <th>math score</th>\n",
       "      <th>reading score</th>\n",
       "      <th>writing score</th>\n",
       "      <th>average score</th>\n",
       "      <th>gender_female</th>\n",
       "      <th>gender_male</th>\n",
       "      <th>race/ethnicity_group A</th>\n",
       "      <th>race/ethnicity_group B</th>\n",
       "      <th>race/ethnicity_group C</th>\n",
       "      <th>race/ethnicity_group D</th>\n",
       "      <th>race/ethnicity_group E</th>\n",
       "      <th>test preparation course_completed</th>\n",
       "      <th>test preparation course_none</th>\n",
       "      <th>lunch_free/reduced</th>\n",
       "      <th>lunch_standard</th>\n",
       "      <th>binnedaverage</th>\n",
       "      <th>binned education</th>\n",
       "    </tr>\n",
       "  </thead>\n",
       "  <tbody>\n",
       "    <tr>\n",
       "      <th>0</th>\n",
       "      <td>4</td>\n",
       "      <td>72</td>\n",
       "      <td>72</td>\n",
       "      <td>74</td>\n",
       "      <td>72.666667</td>\n",
       "      <td>1.0</td>\n",
       "      <td>0.0</td>\n",
       "      <td>0.0</td>\n",
       "      <td>1.0</td>\n",
       "      <td>0.0</td>\n",
       "      <td>0.0</td>\n",
       "      <td>0.0</td>\n",
       "      <td>0.0</td>\n",
       "      <td>1.0</td>\n",
       "      <td>0.0</td>\n",
       "      <td>1.0</td>\n",
       "      <td>3</td>\n",
       "      <td>4</td>\n",
       "    </tr>\n",
       "  </tbody>\n",
       "</table>\n",
       "</div>"
      ],
      "text/plain": [
       "   parental level of education  math score  reading score  writing score  \\\n",
       "0                            4          72             72             74   \n",
       "\n",
       "   average score  gender_female  gender_male  race/ethnicity_group A  \\\n",
       "0      72.666667            1.0          0.0                     0.0   \n",
       "\n",
       "   race/ethnicity_group B  race/ethnicity_group C  race/ethnicity_group D  \\\n",
       "0                     1.0                     0.0                     0.0   \n",
       "\n",
       "   race/ethnicity_group E  test preparation course_completed  \\\n",
       "0                     0.0                                0.0   \n",
       "\n",
       "   test preparation course_none  lunch_free/reduced  lunch_standard  \\\n",
       "0                           1.0                 0.0             1.0   \n",
       "\n",
       "  binnedaverage binned education  \n",
       "0             3                4  "
      ]
     },
     "execution_count": 29,
     "metadata": {},
     "output_type": "execute_result"
    }
   ],
   "source": [
    "sdata.loc[[0]]\n"
   ]
  },
  {
   "cell_type": "code",
   "execution_count": 30,
   "id": "bf921e7a",
   "metadata": {},
   "outputs": [],
   "source": [
    "from sklearn.datasets import fetch_openml "
   ]
  },
  {
   "cell_type": "code",
   "execution_count": 51,
   "id": "9cf2d95e",
   "metadata": {},
   "outputs": [
    {
     "name": "stdout",
     "output_type": "stream",
     "text": [
      "[0.264 0.272 0.248]\n",
      "[[40 17 77 56]\n",
      " [26 14 86 54]\n",
      " [47  7 74 59]\n",
      " [41 18 66 68]]\n",
      "              precision    recall  f1-score   support\n",
      "\n",
      "           1       0.26      0.21      0.23       190\n",
      "           2       0.25      0.08      0.12       180\n",
      "           3       0.24      0.40      0.30       187\n",
      "           4       0.29      0.35      0.32       193\n",
      "\n",
      "    accuracy                           0.26       750\n",
      "   macro avg       0.26      0.26      0.24       750\n",
      "weighted avg       0.26      0.26      0.24       750\n",
      "\n"
     ]
    }
   ],
   "source": [
    "from sklearn.model_selection import cross_val_score\n",
    "from sklearn.model_selection import cross_val_predict\n",
    "from sklearn.model_selection import train_test_split\n",
    "from sklearn.neighbors import KNeighborsClassifier\n",
    "from sklearn.metrics import classification_report, confusion_matrix, ConfusionMatrixDisplay\n",
    "\n",
    "\n",
    "X_train,X_test, y_train, y_test = train_test_split(sdata[[\"parental level of education\"]], sdata[\"binnedaverage\"], random_state=0)\n",
    "\n",
    "model = KNeighborsClassifier()\n",
    "model.fit(X_train,y_train)\n",
    "y_pred = model.predict(X_test)\n",
    "\n",
    "cvs = cross_val_score(model, X_train, y_train, cv=3, scoring=\"accuracy\")\n",
    "print(cvs)\n",
    "\n",
    "\n",
    "\n",
    "y_train_pred = cross_val_predict(model, X_train, y_train, cv=3)\n",
    "\n",
    "\n",
    "\n",
    "confuse = confusion_matrix(y_train,y_train_pred)\n",
    "\n",
    "confusePlot = ConfusionMatrixDisplay(confuse)\n",
    "\n",
    "\n",
    "print(confuse)\n",
    "\n",
    "print(classification_report(y_train,y_train_pred))\n",
    "\n",
    "\n",
    "\n"
   ]
  },
  {
   "cell_type": "code",
   "execution_count": 43,
   "id": "52bd9f0c",
   "metadata": {},
   "outputs": [
    {
     "data": {
      "text/plain": [
       "<sklearn.metrics._plot.confusion_matrix.ConfusionMatrixDisplay at 0x1abab835040>"
      ]
     },
     "execution_count": 43,
     "metadata": {},
     "output_type": "execute_result"
    },
    {
     "data": {
      "image/png": "[encoded data removed]",
      "text/plain": [
       "<Figure size 432x288 with 2 Axes>"
      ]
     },
     "metadata": {
      "needs_background": "light"
     },
     "output_type": "display_data"
    }
   ],
   "source": [
    "\n",
    "confusePlot.plot()"
   ]
  },
  {
   "cell_type": "code",
   "execution_count": 50,
   "id": "bccab9bb",
   "metadata": {},
   "outputs": [
    {
     "name": "stdout",
     "output_type": "stream",
     "text": [
      "[0.21052632 0.07777778 0.39572193 0.35233161] [0.20357143 0.07368421 0.40674956 0.30341113]\n"
     ]
    }
   ],
   "source": [
    "FP = confuse.sum(axis=0) - np.diag(confuse)  \n",
    "FN = confuse.sum(axis=1) - np.diag(confuse)\n",
    "TP = np.diag(confuse)\n",
    "TN = confuse.sum() - (FP + FN + TP)\n",
    "\n",
    "TPR = TP/(TP+FN)\n",
    "FPR = FP/(FP+TN)\n",
    "\n",
    "print(TPR,FPR)\n",
    "\n",
    "\n"
   ]
  },
  {
   "cell_type": "code",
   "execution_count": 56,
   "id": "6d8ef129",
   "metadata": {},
   "outputs": [
    {
     "ename": "ModuleNotFoundError",
     "evalue": "No module named 'yellowbrick'",
     "output_type": "error",
     "traceback": [
      "\u001b[1;31m---------------------------------------------------------------------------\u001b[0m",
      "\u001b[1;31mModuleNotFoundError\u001b[0m                       Traceback (most recent call last)",
      "Input \u001b[1;32mIn [56]\u001b[0m, in \u001b[0;36m<cell line: 5>\u001b[1;34m()\u001b[0m\n\u001b[0;32m      2\u001b[0m \u001b[38;5;28;01mfrom\u001b[39;00m \u001b[38;5;21;01msklearn\u001b[39;00m\u001b[38;5;21;01m.\u001b[39;00m\u001b[38;5;21;01mmodel_selection\u001b[39;00m \u001b[38;5;28;01mimport\u001b[39;00m train_test_split\n\u001b[0;32m      3\u001b[0m \u001b[38;5;28;01mfrom\u001b[39;00m \u001b[38;5;21;01msklearn\u001b[39;00m\u001b[38;5;21;01m.\u001b[39;00m\u001b[38;5;21;01mpreprocessing\u001b[39;00m \u001b[38;5;28;01mimport\u001b[39;00m OrdinalEncoder, LabelEncoder\n\u001b[1;32m----> 5\u001b[0m \u001b[38;5;28;01mfrom\u001b[39;00m \u001b[38;5;21;01myellowbrick\u001b[39;00m\u001b[38;5;21;01m.\u001b[39;00m\u001b[38;5;21;01mclassifier\u001b[39;00m \u001b[38;5;28;01mimport\u001b[39;00m ROCAUC\n\u001b[0;32m      6\u001b[0m \u001b[38;5;28;01mfrom\u001b[39;00m \u001b[38;5;21;01myellowbrick\u001b[39;00m\u001b[38;5;21;01m.\u001b[39;00m\u001b[38;5;21;01mdatasets\u001b[39;00m \u001b[38;5;28;01mimport\u001b[39;00m load_game\n\u001b[0;32m      9\u001b[0m \u001b[38;5;66;03m# Instaniate the classification model and visualizer\u001b[39;00m\n",
      "\u001b[1;31mModuleNotFoundError\u001b[0m: No module named 'yellowbrick'"
     ]
    }
   ],
   "source": [
    "sklearn.metrics.roc_auc_score(y_, cvs)"
   ]
  },
  {
   "cell_type": "code",
   "execution_count": null,
   "id": "f1b69a7d",
   "metadata": {},
   "outputs": [],
   "source": []
  }
 ],
 "metadata": {
  "kernelspec": {
   "display_name": "Python 3 (ipykernel)",
   "language": "python",
   "name": "python3"
  },
  "language_info": {
   "codemirror_mode": {
    "name": "ipython",
    "version": 3
   },
   "file_extension": ".py",
   "mimetype": "text/x-python",
   "name": "python",
   "nbconvert_exporter": "python",
   "pygments_lexer": "ipython3",
   "version": "3.9.12"
  }
 },
 "nbformat": 4,
 "nbformat_minor": 5
}
