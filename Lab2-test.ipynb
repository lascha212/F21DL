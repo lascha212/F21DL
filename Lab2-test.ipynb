{
 "cells": [
  {
   "cell_type": "code",
   "execution_count": 3,
   "metadata": {},
   "outputs": [],
   "source": [
    "import sys\n",
    "assert sys.version_info >= (3, 5)"
   ]
  },
  {
   "cell_type": "code",
   "execution_count": 4,
   "metadata": {},
   "outputs": [],
   "source": [
    "import sklearn\n",
    "assert sklearn.__version__ >= \"0.20\""
   ]
  },
  {
   "cell_type": "code",
   "execution_count": 5,
   "metadata": {},
   "outputs": [],
   "source": [
    "import numpy as np\n",
    "import os\n",
    "import tarfile\n",
    "import urllib\n",
    "import pandas as pd\n",
    "import urllib.request"
   ]
  },
  {
   "cell_type": "code",
   "execution_count": 6,
   "metadata": {},
   "outputs": [],
   "source": [
    "%matplotlib inline\n",
    "import matplotlib as mpl\n",
    "import matplotlib.pyplot as plt"
   ]
  },
  {
   "cell_type": "markdown",
   "metadata": {},
   "source": [
    "Get the CSV data in to a panda dataframe, might need to alter filepaths depending where this is saved"
   ]
  },
  {
   "cell_type": "code",
   "execution_count": null,
   "metadata": {},
   "outputs": [],
   "source": [
    "def load_data():\n",
    "    return pd.read_csv(\"data/winemag-data-130k-v2.csv\")\n",
    "\n",
    "wine = load_data()\n",
    "wine.head()"
   ]
  },
  {
   "cell_type": "markdown",
   "metadata": {},
   "source": [
    "Ideas for pre-processing:\n",
    "\n",
    "Create Vintage feature by scraping data from title field\n",
    "\n",
    "Maybe scrape description for descriptive keywords?\n",
    "\n",
    "Maybe try to find the longitude and latitude of the winery for some scattergraph data\n",
    "\n",
    "\n",
    "Remove taster_twitter_handle\n",
    "\n",
    "Remove Unnamed id feature"
   ]
  },
  {
   "cell_type": "markdown",
   "metadata": {},
   "source": [
    "Drop the unneeded Id and taster twitter handle columns"
   ]
  },
  {
   "cell_type": "code",
   "execution_count": 231,
   "metadata": {},
   "outputs": [],
   "source": [
    "wine = wine.drop(['Unnamed: 0', 'taster_twitter_handle'], axis=1)"
   ]
  },
  {
   "cell_type": "markdown",
   "metadata": {},
   "source": [
    "Create a new feature for the vintage of the wine, get the data from the title field"
   ]
  },
  {
   "cell_type": "markdown",
   "metadata": {},
   "source": [
    "Use RegEx to find the vintage year, make sure year is between 1975 and 2022 to avoid incorrect data. Some names don't contain vintage year, might need to remove those"
   ]
  },
  {
   "cell_type": "code",
   "execution_count": 8,
   "metadata": {},
   "outputs": [],
   "source": [
    "import re"
   ]
  },
  {
   "cell_type": "code",
   "execution_count": 215,
   "metadata": {},
   "outputs": [],
   "source": [
    "def getVintage(wine):\n",
    "    f = re.findall(r'\\d\\d\\d\\d', wine[\"title\"])\n",
    "    if len(f) == 0:\n",
    "        return int()\n",
    "    elif len(f) > 1:\n",
    "        for y in f:\n",
    "            if int(y) < 1975 and int(y) > 2022:\n",
    "                del f[y]\n",
    "    f = f[0]\n",
    "    return f"
   ]
  },
  {
   "cell_type": "code",
   "execution_count": null,
   "metadata": {},
   "outputs": [],
   "source": [
    "wine[\"vintage\"] = wine.apply(getVintage, axis=1)"
   ]
  },
  {
   "cell_type": "markdown",
   "metadata": {},
   "source": [
    "Drop all records that have no indication of location"
   ]
  },
  {
   "cell_type": "code",
   "execution_count": 232,
   "metadata": {},
   "outputs": [],
   "source": [
    "locCols = [\"country\", \"province\", \"region_1\"]\n",
    "wine = wine.dropna(axis=0,subset=locCols, how='all', inplace=True)"
   ]
  },
  {
   "cell_type": "markdown",
   "metadata": {},
   "source": [
    "This is a script that tries to get the longitude and latitude of each wineries location, it queries an online google maps esque webpage and gradually widens the search area until there is a match. It is not viable to get all of the data this way."
   ]
  },
  {
   "cell_type": "code",
   "execution_count": null,
   "metadata": {},
   "outputs": [],
   "source": [
    "%pip install requests"
   ]
  },
  {
   "cell_type": "code",
   "execution_count": 2,
   "metadata": {},
   "outputs": [],
   "source": [
    "import requests\n",
    "import urllib.parse"
   ]
  },
  {
   "cell_type": "code",
   "execution_count": 135,
   "metadata": {},
   "outputs": [],
   "source": [
    "def getCoords(wine):\n",
    "    address = str(wine[\"winery\"]) + \",\" + str(wine[\"province\"]) + \",\" + str(wine[\"region_1\"]) + \",\" + str(wine[\"country\"])\n",
    "    repCount = 0\n",
    "    while True:\n",
    "        url = 'https://nominatim.openstreetmap.org/search/' + urllib.parse.quote(address) +'?format=json'\n",
    "        response = requests.get(url).json()\n",
    "        if response:\n",
    "            print(response[0][\"lat\"])\n",
    "            print(response[0][\"lon\"])\n",
    "            return [response[0][\"lat\"], response[0][\"lon\"]]\n",
    "        address = address.split(',')\n",
    "        address = ','.join(address[1:])"
   ]
  },
  {
   "cell_type": "markdown",
   "metadata": {},
   "source": [
    "If we let the code run, we should create some code to populate the longitude and latitude of the other records of each winery. At this current point, only the first record of each winery has their long and lat updated"
   ]
  },
  {
   "cell_type": "code",
   "execution_count": null,
   "metadata": {},
   "outputs": [],
   "source": [
    "# Get the first record of each unique winery\n",
    "uniqueWineries = wine.groupby(\"winery\", as_index=False).first()\n",
    "\n",
    "uniqueWineries[\"longitude\"] = uniqueWineries.apply(getCoords, axis=1)[0]\n",
    "uniqueWineries[\"latitude\"] = uniqueWineries.apply(getCoords, axis=1)[1]"
   ]
  }
 ],
 "metadata": {
  "kernelspec": {
   "display_name": "Python 3.10.2 64-bit",
   "language": "python",
   "name": "python3"
  },
  "language_info": {
   "codemirror_mode": {
    "name": "ipython",
    "version": 3
   },
   "file_extension": ".py",
   "mimetype": "text/x-python",
   "name": "python",
   "nbconvert_exporter": "python",
   "pygments_lexer": "ipython3",
   "version": "3.10.2"
  },
  "orig_nbformat": 4,
  "vscode": {
   "interpreter": {
    "hash": "369f2c481f4da34e4445cda3fffd2e751bd1c4d706f27375911949ba6bb62e1c"
   }
  }
 },
 "nbformat": 4,
 "nbformat_minor": 2
}
