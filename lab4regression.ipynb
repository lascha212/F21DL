{
 "cells": [
  {
   "cell_type": "code",
   "execution_count": 15,
   "id": "92cb06b7",
   "metadata": {},
   "outputs": [],
   "source": [
    "import sys\n",
    "assert sys.version_info >= (3, 5)\n",
    "import sklearn\n",
    "assert sklearn.__version__ >= \"0.20\"\n",
    "# Common imports\n",
    "import numpy as np\n",
    "import os\n",
    "import tarfile\n",
    "import urllib\n",
    "import pandas as pd\n",
    "import urllib.request\n",
    "from sklearn.linear_model import LinearRegression\n",
    "# To plot pretty figures\n",
    "%matplotlib inline\n",
    "import matplotlib as mpl\n",
    "import matplotlib.pyplot as plt"
   ]
  },
  {
   "cell_type": "code",
   "execution_count": 2,
   "id": "58e15e26",
   "metadata": {},
   "outputs": [],
   "source": [
    "sdata = pd.read_csv(\"data/StudentsPerformance.csv\")\n"
   ]
  },
  {
   "cell_type": "code",
   "execution_count": 3,
   "id": "d25d985f",
   "metadata": {},
   "outputs": [],
   "source": [
    "sdata[\"average score\"] = (sdata[\"math score\"] + sdata[\"reading score\"] + sdata[\"writing score\"])/3\n"
   ]
  },
  {
   "cell_type": "code",
   "execution_count": 4,
   "id": "fd05fa14",
   "metadata": {},
   "outputs": [
    {
     "data": {
      "text/plain": [
       "0      72.666667\n",
       "1      82.333333\n",
       "2      92.666667\n",
       "3      49.333333\n",
       "4      76.333333\n",
       "         ...    \n",
       "995    94.000000\n",
       "996    57.333333\n",
       "997    65.000000\n",
       "998    74.333333\n",
       "999    83.000000\n",
       "Name: average score, Length: 1000, dtype: float64"
      ]
     },
     "execution_count": 4,
     "metadata": {},
     "output_type": "execute_result"
    }
   ],
   "source": [
    "sdata[\"average score\"]"
   ]
  },
  {
   "cell_type": "code",
   "execution_count": 5,
   "id": "35d70993",
   "metadata": {},
   "outputs": [
    {
     "data": {
      "text/html": [
       "<div>\n",
       "<style scoped>\n",
       "    .dataframe tbody tr th:only-of-type {\n",
       "        vertical-align: middle;\n",
       "    }\n",
       "\n",
       "    .dataframe tbody tr th {\n",
       "        vertical-align: top;\n",
       "    }\n",
       "\n",
       "    .dataframe thead th {\n",
       "        text-align: right;\n",
       "    }\n",
       "</style>\n",
       "<table border=\"1\" class=\"dataframe\">\n",
       "  <thead>\n",
       "    <tr style=\"text-align: right;\">\n",
       "      <th></th>\n",
       "      <th>gender</th>\n",
       "      <th>race/ethnicity</th>\n",
       "      <th>parental level of education</th>\n",
       "      <th>lunch</th>\n",
       "      <th>test preparation course</th>\n",
       "      <th>math score</th>\n",
       "      <th>reading score</th>\n",
       "      <th>writing score</th>\n",
       "      <th>average score</th>\n",
       "    </tr>\n",
       "  </thead>\n",
       "  <tbody>\n",
       "    <tr>\n",
       "      <th>0</th>\n",
       "      <td>female</td>\n",
       "      <td>group B</td>\n",
       "      <td>bachelor's degree</td>\n",
       "      <td>standard</td>\n",
       "      <td>none</td>\n",
       "      <td>72</td>\n",
       "      <td>72</td>\n",
       "      <td>74</td>\n",
       "      <td>72.666667</td>\n",
       "    </tr>\n",
       "  </tbody>\n",
       "</table>\n",
       "</div>"
      ],
      "text/plain": [
       "   gender race/ethnicity parental level of education     lunch  \\\n",
       "0  female        group B           bachelor's degree  standard   \n",
       "\n",
       "  test preparation course  math score  reading score  writing score  \\\n",
       "0                    none          72             72             74   \n",
       "\n",
       "   average score  \n",
       "0      72.666667  "
      ]
     },
     "execution_count": 5,
     "metadata": {},
     "output_type": "execute_result"
    }
   ],
   "source": [
    "\n",
    "sdata.loc[[0]]"
   ]
  },
  {
   "cell_type": "code",
   "execution_count": 6,
   "id": "d3a50d6b",
   "metadata": {},
   "outputs": [],
   "source": [
    "from sklearn.preprocessing import OneHotEncoder\n",
    "\n",
    "en = OneHotEncoder(handle_unknown=\"ignore\")\n",
    "en_temp = pd.DataFrame(en.fit_transform(sdata[[\"gender\"]]).toarray())\n",
    "en_temp.columns = en.get_feature_names_out([\"gender\"])\n",
    "sdata.drop([\"gender\"],axis=1,inplace=True)\n",
    "sdata = sdata.join(en_temp)\n",
    "\n",
    "\n",
    "en_temp = pd.DataFrame(en.fit_transform(sdata[[\"race/ethnicity\"]]).toarray())\n",
    "en_temp.columns = en.get_feature_names_out([\"race/ethnicity\"])\n",
    "sdata.drop([\"race/ethnicity\"],axis=1,inplace=True)\n",
    "sdata = sdata.join(en_temp)\n",
    "\n",
    "\n",
    "\n",
    "en_temp = pd.DataFrame(en.fit_transform(sdata[[\"test preparation course\"]]).toarray())\n",
    "en_temp.columns = en.get_feature_names_out([\"test preparation course\"])\n",
    "sdata.drop([\"test preparation course\"],axis=1,inplace=True)\n",
    "sdata = sdata.join(en_temp)\n",
    "\n",
    "en_temp = pd.DataFrame(en.fit_transform(sdata[[\"lunch\"]]).toarray())\n",
    "en_temp.columns = en.get_feature_names_out([\"lunch\"])\n",
    "sdata.drop([\"lunch\"],axis=1,inplace=True)\n",
    "sdata = sdata.join(en_temp)\n",
    "\n",
    "\n",
    "\n",
    "\n"
   ]
  },
  {
   "cell_type": "code",
   "execution_count": 7,
   "id": "207dd1ed",
   "metadata": {},
   "outputs": [],
   "source": [
    "sdata[\"parental level of education\"] = sdata[\"parental level of education\"].replace('some high school',0)\n",
    "sdata[\"parental level of education\"] = sdata[\"parental level of education\"].replace('high school',1)\n",
    "sdata[\"parental level of education\"] = sdata[\"parental level of education\"].replace('some college',2)\n",
    "sdata[\"parental level of education\"] = sdata[\"parental level of education\"].replace(\"associate's degree\", 3)\n",
    "sdata[\"parental level of education\"] = sdata[\"parental level of education\"].replace(\"bachelor's degree\" ,4)\n",
    "sdata[\"parental level of education\"] = sdata[\"parental level of education\"].replace(\"master's degree\",5)\n",
    "\n",
    "\n",
    "\n",
    "\n",
    "\n",
    "\n"
   ]
  },
  {
   "cell_type": "code",
   "execution_count": 8,
   "id": "e3804ae2",
   "metadata": {},
   "outputs": [
    {
     "data": {
      "text/plain": [
       "parental level of education            int64\n",
       "math score                             int64\n",
       "reading score                          int64\n",
       "writing score                          int64\n",
       "average score                        float64\n",
       "gender_female                        float64\n",
       "gender_male                          float64\n",
       "race/ethnicity_group A               float64\n",
       "race/ethnicity_group B               float64\n",
       "race/ethnicity_group C               float64\n",
       "race/ethnicity_group D               float64\n",
       "race/ethnicity_group E               float64\n",
       "test preparation course_completed    float64\n",
       "test preparation course_none         float64\n",
       "lunch_free/reduced                   float64\n",
       "lunch_standard                       float64\n",
       "dtype: object"
      ]
     },
     "execution_count": 8,
     "metadata": {},
     "output_type": "execute_result"
    }
   ],
   "source": [
    "sdata.loc[[0]]\n",
    "sdata.dtypes"
   ]
  },
  {
   "cell_type": "code",
   "execution_count": 9,
   "id": "7045b46a",
   "metadata": {},
   "outputs": [
    {
     "name": "stdout",
     "output_type": "stream",
     "text": [
      "parental level of education coefficient 0.159431818157356\n",
      "math score coefficient 1.0\n",
      "reading score coefficient 0.8175796636720539\n",
      "writing score coefficient 0.802642045949808\n",
      "average score coefficient 0.9187457588383446\n",
      "gender_female coefficient -0.16798223810035579\n",
      "gender_male coefficient 0.16798223810035579\n",
      "race/ethnicity_group A coefficient -0.09197709990214445\n",
      "race/ethnicity_group B coefficient -0.08425005999398143\n",
      "race/ethnicity_group C coefficient -0.07338687290137136\n",
      "race/ethnicity_group D coefficient 0.05007071350889431\n",
      "race/ethnicity_group E coefficient 0.2058545809467559\n",
      "test preparation course_completed coefficient 0.17770246930439465\n",
      "test preparation course_none coefficient -0.17770246930439465\n",
      "lunch_free/reduced coefficient -0.35087664559186066\n",
      "lunch_standard coefficient 0.35087664559186066\n"
     ]
    }
   ],
   "source": [
    "for x in sdata.columns:\n",
    "         \n",
    "    print(x+\" coefficient\",sdata[\"math score\"].corr(sdata[x],method=\"pearson\"))\n",
    "\n",
    "#Correlations for math score"
   ]
  },
  {
   "cell_type": "code",
   "execution_count": 10,
   "id": "b255471f",
   "metadata": {},
   "outputs": [
    {
     "name": "stdout",
     "output_type": "stream",
     "text": [
      "parental level of education coefficient 0.19090826476420367\n",
      "math score coefficient 0.817579663672054\n",
      "reading score coefficient 0.9999999999999999\n",
      "writing score coefficient 0.9545980771462477\n",
      "average score coefficient 0.9703306887176952\n",
      "gender_female coefficient 0.24431260787747192\n",
      "gender_male coefficient -0.24431260787747192\n",
      "race/ethnicity_group A coefficient -0.09627399708853399\n",
      "race/ethnicity_group B coefficient -0.060283286992506575\n",
      "race/ethnicity_group C coefficient -0.0030744299008463815\n",
      "race/ethnicity_group D coefficient 0.03517659137232693\n",
      "race/ethnicity_group E coefficient 0.10671182951929853\n",
      "test preparation course_completed coefficient 0.24178043354875137\n",
      "test preparation course_none coefficient -0.24178043354875137\n",
      "lunch_free/reduced coefficient -0.22956032166228102\n",
      "lunch_standard coefficient 0.22956032166228102\n"
     ]
    }
   ],
   "source": [
    "for x in sdata.columns:\n",
    "         \n",
    "    print(x+\" coefficient\",sdata[\"reading score\"].corr(sdata[x],method=\"pearson\"))\n",
    "\n",
    "#Correlations for reading score"
   ]
  },
  {
   "cell_type": "code",
   "execution_count": 11,
   "id": "8f79c734",
   "metadata": {},
   "outputs": [
    {
     "name": "stdout",
     "output_type": "stream",
     "text": [
      "parental level of education coefficient 0.23671517332205233\n",
      "math score coefficient 0.802642045949808\n",
      "reading score coefficient 0.9545980771462477\n",
      "writing score coefficient 1.0\n",
      "average score coefficient 0.9656672374542071\n",
      "gender_female coefficient 0.3012249355007125\n",
      "gender_male coefficient -0.3012249355007125\n",
      "race/ethnicity_group A coefficient -0.11071415908289269\n",
      "race/ethnicity_group B coefficient -0.07825401387470705\n",
      "race/ethnicity_group C coefficient -0.010202872032835975\n",
      "race/ethnicity_group D coefficient 0.082031791913733\n",
      "race/ethnicity_group E coefficient 0.08907680313022083\n",
      "test preparation course_completed coefficient 0.312946284485956\n",
      "test preparation course_none coefficient -0.312946284485956\n",
      "lunch_free/reduced coefficient -0.2457686763842184\n",
      "lunch_standard coefficient 0.2457686763842184\n"
     ]
    }
   ],
   "source": [
    "for x in sdata.columns:\n",
    "         \n",
    "    print(x+\" coefficient\",sdata[\"writing score\"].corr(sdata[x],method=\"pearson\"))\n",
    "\n",
    "#Correlations for writing score"
   ]
  },
  {
   "cell_type": "code",
   "execution_count": 12,
   "id": "92ac3f4b",
   "metadata": {},
   "outputs": [
    {
     "name": "stdout",
     "output_type": "stream",
     "text": [
      "parental level of education coefficient 0.2057846688566186\n",
      "math score coefficient 0.9187457588383445\n",
      "reading score coefficient 0.9703306887176952\n",
      "writing score coefficient 0.965667237454207\n",
      "average score coefficient 1.0\n",
      "gender_female coefficient 0.13086122988485377\n",
      "gender_male coefficient -0.13086122988485377\n",
      "race/ethnicity_group A coefficient -0.1048034150154246\n",
      "race/ethnicity_group B coefficient -0.07824653624024683\n",
      "race/ethnicity_group C coefficient -0.03069059943399047\n",
      "race/ethnicity_group D coefficient 0.05890160613453797\n",
      "race/ethnicity_group E coefficient 0.14104990062563996\n",
      "test preparation course_completed coefficient 0.25670970665622217\n",
      "test preparation course_none coefficient -0.25670970665622217\n",
      "lunch_free/reduced coefficient -0.29006402187118774\n",
      "lunch_standard coefficient 0.29006402187118774\n"
     ]
    }
   ],
   "source": [
    "\n",
    "\n",
    "for x in sdata.columns:\n",
    "         \n",
    "    print(x+\" coefficient\",sdata[\"average score\"].corr(sdata[x],method=\"pearson\"))\n",
    "\n",
    "#Correlations for average score"
   ]
  },
  {
   "cell_type": "code",
   "execution_count": 13,
   "id": "bf921e7a",
   "metadata": {},
   "outputs": [],
   "source": [
    "from sklearn.datasets import fetch_openml "
   ]
  },
  {
   "cell_type": "code",
   "execution_count": 26,
   "id": "9cf2d95e",
   "metadata": {},
   "outputs": [
    {
     "name": "stdout",
     "output_type": "stream",
     "text": [
      "0.9681436996372448\n"
     ]
    },
    {
     "name": "stderr",
     "output_type": "stream",
     "text": [
      "E:\\Anaconda\\lib\\site-packages\\sklearn\\base.py:443: UserWarning: X has feature names, but LinearRegression was fitted without feature names\n",
      "  warnings.warn(\n"
     ]
    }
   ],
   "source": [
    "from sklearn.model_selection import cross_val_score\n",
    "from sklearn.model_selection import train_test_split\n",
    "from sklearn.metrics import classification_report, confusion_matrix , mean_squared_error, r2_score\n",
    "\n",
    "\n",
    "X_train,X_test, y_train, y_test = train_test_split(sdata[[\"math score\"]], sdata[[\"average score\"]], random_state=0)\n",
    "\n",
    "model = LinearRegression()\n",
    "\n",
    " \n",
    "model.fit(X_train.values.reshape(-1,1),y_train.values.reshape(-1,1))\n",
    "y_pred = model.predict(X_test)\n",
    "mse =mean_squared_error(X_test,y_pred)\n",
    "\n",
    "#confuse = confusion_matrix(y_test,y_pred)\n",
    "\n",
    "print(r2_score(X_test,y_pred))\n",
    "# cross_val_score(model, X_train, y_train, scoring=\"accuracy\")\n",
    "\n",
    "\n"
   ]
  },
  {
   "cell_type": "code",
   "execution_count": null,
   "id": "52bd9f0c",
   "metadata": {},
   "outputs": [],
   "source": []
  }
 ],
 "metadata": {
  "kernelspec": {
   "display_name": "Python 3 (ipykernel)",
   "language": "python",
   "name": "python3"
  },
  "language_info": {
   "codemirror_mode": {
    "name": "ipython",
    "version": 3
   },
   "file_extension": ".py",
   "mimetype": "text/x-python",
   "name": "python",
   "nbconvert_exporter": "python",
   "pygments_lexer": "ipython3",
   "version": "3.9.12"
  }
 },
 "nbformat": 4,
 "nbformat_minor": 5
}
