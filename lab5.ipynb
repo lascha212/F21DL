{
 "cells": [
  {
   "cell_type": "markdown",
   "metadata": {},
   "source": [
    "# Lab 5\n",
    "1. to practice what we have learned so far:\n",
    "   - Bayesian Probabilities\n",
    "   - Bayes Nets and algorithms that underpin them\n",
    "   - Practical considerations in running Bayes nets on the given data\n",
    "2. to help you to make progress with Python tutorial and your DM & ML portfolio."
   ]
  },
  {
   "cell_type": "markdown",
   "metadata": {},
   "source": [
    "#### Task 1.1 Bayes Rule, Bayesian Probabilities\n",
    "1. What is the Probability P (A) of the target feature A, where A and B are the following events: A = 'happy face', B = 'cell 42 is white'\n",
    "   1. *P(A) = 3/5*\n",
    "   2. *P(B|A) = 1/3*\n",
    "   3. *P(A|B) = P(B|A) * P(A) / P(B) = 1/3 * 3/5 / 3/5 = 1/3*\n",
    "   4. *Yes, A changes to 1/3 knowing that cell 42 is white.*"
   ]
  },
  {
   "cell_type": "markdown",
   "metadata": {},
   "source": [
    "#### Task 1.2 Algorithms behind the Bayes nets\n",
    "1. Check pages 90 - 94 in the data Mining textbook. It shows how to convert a data set into Bayes factors, which constitute a Naive Bayes net. \n",
    "2. Take an example: (Cell33 = White), (Cell42 = Black), (Cell48 = Black), (Cell58 = White) and calculate the probabilities: \n",
    "   1. P(happy face) = *0.67 * 0.17 * 0.5 * 0.86 = 0.0489*\n",
    "   2. P(sad face) = *0.33 * 0.83 * 0.5 * 0.14 = 0.00693*\n"
   ]
  }
 ],
 "metadata": {
  "kernelspec": {
   "display_name": "Python 3.9.13 ('F21DL')",
   "language": "python",
   "name": "python3"
  },
  "language_info": {
   "name": "python",
   "version": "3.9.13"
  },
  "orig_nbformat": 4,
  "vscode": {
   "interpreter": {
    "hash": "d80a60b5cae90d0132c97af96d84f3faaaa5679a5193fa9421d1db0d11796e0e"
   }
  }
 },
 "nbformat": 4,
 "nbformat_minor": 2
}
