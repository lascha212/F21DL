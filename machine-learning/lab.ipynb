{
 "cells": [
  {
   "cell_type": "markdown",
   "metadata": {},
   "source": [
    "# Lab 1 Intro to Data Mining\n",
    "Complete the Python set up for this course and get some practice with exploring data mining and machine learning data sets. \n",
    "\n",
    "## Portfolio Tasks (Group Tasks)\n",
    "- Meet your group. \n",
    "- Explore 3 data sets from at least two sources. \n",
    "- Choose 1 dataset out of the 3 and discuss pros and cons. Explain reasons for choosing your dataset. "
   ]
  },
  {
   "cell_type": "markdown",
   "metadata": {},
   "source": [
    "# Lab 2 Basics of Data Processing\n",
    "Practice with basic data processing in Python. You will learn to load the data, find attribute information, generate a statistical summary, generate plots, deal with categorical data, ...\n",
    "\n",
    "## Portfolio Tasks (Group Tasks)\n",
    "- Set up GitHub repo properly.\n",
    "- Visualise data and do initial data exploration. \n",
    "- Discuss how you fixed problems like missing data. Do you need to apply any preprocessing or normalization procedures? "
   ]
  },
  {
   "cell_type": "code",
   "execution_count": null,
   "metadata": {},
   "outputs": [],
   "source": []
  }
 ],
 "metadata": {
  "language_info": {
   "name": "python"
  },
  "orig_nbformat": 4
 },
 "nbformat": 4,
 "nbformat_minor": 2
}
